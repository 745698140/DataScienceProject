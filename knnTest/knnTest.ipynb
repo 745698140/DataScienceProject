{
 "cells": [
  {
   "cell_type": "code",
   "execution_count": 19,
   "id": "8bcb06cf",
   "metadata": {},
   "outputs": [
    {
     "name": "stdout",
     "output_type": "stream",
     "text": [
      "26.080000000000002\n"
     ]
    }
   ],
   "source": [
    "from urllib import request\n",
    "import json\n",
    "url = 'http://1.15.152.80:5000/knn'\n",
    "temp_data = [8.2210e-02,2.2000e+01,5.8600e+00,0.0000e+00,4.3100e-01,6.9570e+00,6.8000e+00,8.9067e+00,7.0000e+00,3.3000e+02,1.9100e+01,3.8609e+02,3.5300e+00]\n",
    "raw_data = {'data':temp_data}\n",
    "data = json.dumps(raw_data)\n",
    "data = bytes(data, 'utf8')\n",
    "headers = {\"Content-Type\":'application/json'}\n",
    "req = request.Request(url, headers = headers, data = data)\n",
    "res = request.urlopen(req)\n",
    "print(res.read().decode('utf8'))"
   ]
  },
  {
   "cell_type": "code",
   "execution_count": null,
   "id": "a99224e3",
   "metadata": {},
   "outputs": [],
   "source": []
  },
  {
   "cell_type": "code",
   "execution_count": null,
   "id": "3b37ab0d",
   "metadata": {},
   "outputs": [],
   "source": []
  }
 ],
 "metadata": {
  "kernelspec": {
   "display_name": "Python 3",
   "language": "python",
   "name": "python3"
  },
  "language_info": {
   "codemirror_mode": {
    "name": "ipython",
    "version": 3
   },
   "file_extension": ".py",
   "mimetype": "text/x-python",
   "name": "python",
   "nbconvert_exporter": "python",
   "pygments_lexer": "ipython3",
   "version": "3.8.8"
  }
 },
 "nbformat": 4,
 "nbformat_minor": 5
}
