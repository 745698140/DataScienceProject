{
 "cells": [
  {
   "cell_type": "code",
   "execution_count": 9,
   "metadata": {},
   "outputs": [],
   "source": [
    "import numpy as np\n",
    "import pickle"
   ]
  },
  {
   "cell_type": "code",
   "execution_count": 10,
   "metadata": {},
   "outputs": [],
   "source": [
    "with open('knnModel.pickle', 'rb') as file:\n",
    "    knn = pickle.load(file)"
   ]
  },
  {
   "cell_type": "code",
   "execution_count": 11,
   "metadata": {},
   "outputs": [],
   "source": [
    "import numpy as np\n",
    "import pandas as pd\n",
    "from pandas import Series, DataFrame\n",
    "\n",
    "\n",
    "\n",
    "import sklearn.datasets as datasets\n",
    "\n",
    "from sklearn.neighbors import KNeighborsRegressor\n",
    "from sklearn.linear_model import LinearRegression\n",
    "from sklearn.linear_model import Ridge\n",
    "from sklearn.linear_model import Lasso\n",
    "from sklearn.tree import DecisionTreeRegressor\n",
    "from sklearn.svm import SVR\n",
    "\n",
    "from sklearn.model_selection import train_test_split\n",
    "\n",
    "from sklearn.metrics import r2_score"
   ]
  },
  {
   "cell_type": "code",
   "execution_count": 12,
   "metadata": {},
   "outputs": [],
   "source": [
    "boston = datasets.load_boston()\n",
    "train = boston.data\n",
    "target = boston.target\n",
    "\n",
    "X_train, x_test, y_train, t_true = train_test_split(train, target, test_size = 0.2)"
   ]
  },
  {
   "cell_type": "code",
   "execution_count": 13,
   "metadata": {},
   "outputs": [],
   "source": [
    "y_pre = knn.predict(x_test)"
   ]
  },
  {
   "cell_type": "code",
   "execution_count": 14,
   "metadata": {},
   "outputs": [],
   "source": [
    "knn_score = r2_score(t_true, y_pre)"
   ]
  },
  {
   "cell_type": "code",
   "execution_count": 15,
   "metadata": {},
   "outputs": [
    {
     "name": "stdout",
     "output_type": "stream",
     "text": [
      "0.741029052524588\n"
     ]
    }
   ],
   "source": [
    "print(knn_score)"
   ]
  },
  {
   "cell_type": "code",
   "execution_count": 27,
   "metadata": {},
   "outputs": [
    {
     "name": "stdout",
     "output_type": "stream",
     "text": [
      "[[6.44405e+00 0.00000e+00 1.81000e+01 0.00000e+00 5.84000e-01 6.42500e+00\n",
      "  7.48000e+01 2.20040e+00 2.40000e+01 6.66000e+02 2.02000e+01 9.79500e+01\n",
      "  1.20300e+01]\n",
      " [1.62110e-01 2.00000e+01 6.96000e+00 0.00000e+00 4.64000e-01 6.24000e+00\n",
      "  1.63000e+01 4.42900e+00 3.00000e+00 2.23000e+02 1.86000e+01 3.96900e+02\n",
      "  6.59000e+00]\n",
      " [9.55770e-01 0.00000e+00 8.14000e+00 0.00000e+00 5.38000e-01 6.04700e+00\n",
      "  8.88000e+01 4.45340e+00 4.00000e+00 3.07000e+02 2.10000e+01 3.06380e+02\n",
      "  1.72800e+01]\n",
      " [9.17800e-02 0.00000e+00 4.05000e+00 0.00000e+00 5.10000e-01 6.41600e+00\n",
      "  8.41000e+01 2.64630e+00 5.00000e+00 2.96000e+02 1.66000e+01 3.95500e+02\n",
      "  9.04000e+00]\n",
      " [1.40520e-01 0.00000e+00 1.05900e+01 0.00000e+00 4.89000e-01 6.37500e+00\n",
      "  3.23000e+01 3.94540e+00 4.00000e+00 2.77000e+02 1.86000e+01 3.85810e+02\n",
      "  9.38000e+00]\n",
      " [6.71772e+00 0.00000e+00 1.81000e+01 0.00000e+00 7.13000e-01 6.74900e+00\n",
      "  9.26000e+01 2.32360e+00 2.40000e+01 6.66000e+02 2.02000e+01 3.20000e-01\n",
      "  1.74400e+01]\n",
      " [4.26131e+00 0.00000e+00 1.81000e+01 0.00000e+00 7.70000e-01 6.11200e+00\n",
      "  8.13000e+01 2.50910e+00 2.40000e+01 6.66000e+02 2.02000e+01 3.90740e+02\n",
      "  1.26700e+01]\n",
      " [2.07460e-01 0.00000e+00 2.77400e+01 0.00000e+00 6.09000e-01 5.09300e+00\n",
      "  9.80000e+01 1.82260e+00 4.00000e+00 7.11000e+02 2.01000e+01 3.18430e+02\n",
      "  2.96800e+01]\n",
      " [3.76800e-02 8.00000e+01 1.52000e+00 0.00000e+00 4.04000e-01 7.27400e+00\n",
      "  3.83000e+01 7.30900e+00 2.00000e+00 3.29000e+02 1.26000e+01 3.92200e+02\n",
      "  6.62000e+00]\n",
      " [3.04900e-02 5.50000e+01 3.78000e+00 0.00000e+00 4.84000e-01 6.87400e+00\n",
      "  2.81000e+01 6.46540e+00 5.00000e+00 3.70000e+02 1.76000e+01 3.87970e+02\n",
      "  4.61000e+00]]\n"
     ]
    }
   ],
   "source": [
    "print(x_test[:10])"
   ]
  },
  {
   "cell_type": "code",
   "execution_count": 18,
   "metadata": {},
   "outputs": [
    {
     "data": {
      "text/plain": [
       "[0.08221,\n",
       " 22.0,\n",
       " 5.86,\n",
       " 0.0,\n",
       " 0.431,\n",
       " 6.957,\n",
       " 6.8,\n",
       " 8.9067,\n",
       " 7.0,\n",
       " 330.0,\n",
       " 19.1,\n",
       " 386.09,\n",
       " 3.53]"
      ]
     },
     "execution_count": 18,
     "metadata": {},
     "output_type": "execute_result"
    }
   ],
   "source": [
    "data = [8.2210e-02,2.2000e+01,5.8600e+00,0.0000e+00,4.3100e-01,6.9570e+00,6.8000e+00,8.9067e+00,7.0000e+00,3.3000e+02,1.9100e+01,3.8609e+02,3.5300e+00]\n",
    "data"
   ]
  },
  {
   "cell_type": "code",
   "execution_count": 28,
   "metadata": {},
   "outputs": [],
   "source": [
    "temp_data = np.array([data])"
   ]
  },
  {
   "cell_type": "code",
   "execution_count": 29,
   "metadata": {},
   "outputs": [
    {
     "data": {
      "text/plain": [
       "array([[8.2210e-02, 2.2000e+01, 5.8600e+00, 0.0000e+00, 4.3100e-01,\n",
       "        6.9570e+00, 6.8000e+00, 8.9067e+00, 7.0000e+00, 3.3000e+02,\n",
       "        1.9100e+01, 3.8609e+02, 3.5300e+00]])"
      ]
     },
     "execution_count": 29,
     "metadata": {},
     "output_type": "execute_result"
    }
   ],
   "source": [
    "temp_data"
   ]
  },
  {
   "cell_type": "code",
   "execution_count": 30,
   "metadata": {},
   "outputs": [],
   "source": [
    "ret = knn.predict(temp_data)"
   ]
  },
  {
   "cell_type": "code",
   "execution_count": 32,
   "metadata": {},
   "outputs": [
    {
     "data": {
      "text/plain": [
       "26.080000000000002"
      ]
     },
     "execution_count": 32,
     "metadata": {},
     "output_type": "execute_result"
    }
   ],
   "source": [
    "ret[0]"
   ]
  },
  {
   "cell_type": "code",
   "execution_count": null,
   "metadata": {},
   "outputs": [],
   "source": []
  }
 ],
 "metadata": {
  "kernelspec": {
   "display_name": "Python 3",
   "language": "python",
   "name": "python3"
  },
  "language_info": {
   "codemirror_mode": {
    "name": "ipython",
    "version": 3
   },
   "file_extension": ".py",
   "mimetype": "text/x-python",
   "name": "python",
   "nbconvert_exporter": "python",
   "pygments_lexer": "ipython3",
   "version": "3.8.8"
  }
 },
 "nbformat": 4,
 "nbformat_minor": 4
}
